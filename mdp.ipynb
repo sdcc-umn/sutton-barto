{
 "cells": [
  {
   "cell_type": "code",
   "execution_count": 1,
   "metadata": {},
   "outputs": [],
   "source": [
    "import numpy as np\n",
    "# MDP definition\n",
    "S = [0,1,2,3]\n",
    "A = [0,1]\n",
    "T = {} # We'll assume T is deterministic for now.\n",
    "R = {0: -1, 1:0, 2:0, 3:1}\n",
    "\n",
    "# Fill in the transition matrix:\n",
    "for s in S:\n",
    "    for a in A:\n",
    "        if a == 0:\n",
    "            s_prime = max(0, s - 1)\n",
    "        elif a ==1:\n",
    "            s_prime = min(3, s+1)\n",
    "        T[s,a] = s_prime"
   ]
  },
  {
   "cell_type": "code",
   "execution_count": 2,
   "metadata": {},
   "outputs": [
    {
     "name": "stdout",
     "output_type": "stream",
     "text": [
      "[1. 0. 0. 0.] -1\n",
      "[0. 1. 0. 0.] -1\n",
      "[0. 0. 1. 0.] -1\n",
      "[0. 0. 0. 1.] 0\n",
      "[0. 0. 1. 0.] 0\n",
      "[0. 1. 0. 0.] 0\n",
      "[1. 0. 0. 0.] -1\n",
      "[1. 0. 0. 0.] -2\n",
      "[0. 1. 0. 0.] -2\n",
      "[0. 0. 1. 0.] -2\n"
     ]
    }
   ],
   "source": [
    "time_steps = 10\n",
    "import time\n",
    "s0 = 0\n",
    "s = s0\n",
    "score = 0\n",
    "\n",
    "# Simulate random agent.\n",
    "for i in range(time_steps):\n",
    "    time.sleep(0.5)\n",
    "    a = np.random.choice(A)\n",
    "    s = T[s, a]\n",
    "    map = np.zeros(len(S))\n",
    "    map[s] = 1\n",
    "    score += R[s]\n",
    "    print(map, score)"
   ]
  },
  {
   "cell_type": "code",
   "execution_count": 3,
   "metadata": {},
   "outputs": [
    {
     "name": "stdout",
     "output_type": "stream",
     "text": [
      "[-1.    -0.5   -0.25   0.875]\n",
      "[-1.75    -1.      -0.0625   1.40625]\n",
      "[-2.375   -1.21875  0.09375  1.75   ]\n",
      "[-2.796875   -1.3515625   0.19921875  1.97460938]\n",
      "[-3.07421875 -1.4375      0.26855469  2.12158203]\n",
      "[-3.25585938 -1.49365234  0.31396484  2.21777344]\n",
      "[-3.37475586 -1.53039551  0.34368896  2.2807312 ]\n",
      "[-3.45257568 -1.55444336  0.36314392  2.32193756]\n",
      "[-3.50350952 -1.5701828   0.37587738  2.34890747]\n",
      "[-3.53684616 -1.58048439  0.38421154  2.36655951]\n",
      "[-3.55866528 -1.58722687  0.38966632  2.37811291]\n",
      "[-3.57294607 -1.59163988  0.39323652  2.38567472]\n",
      "[-3.58229297 -1.59452823  0.39557324  2.39062398]\n",
      "[-3.5884106  -1.59641868  0.39710265  2.39386331]\n",
      "[-3.59241464 -1.59765599  0.39810366  2.39598349]\n",
      "[-3.59503532 -1.59846583  0.39875883  2.39737116]\n",
      "[-3.59675057 -1.59899587  0.39918764  2.3982794 ]\n",
      "[-3.59787322 -1.59934279  0.39946831  2.39887385]\n",
      "[-3.59860801 -1.59956985  0.399652    2.39926293]\n",
      "[-3.59908893 -1.59971846  0.39977223  2.39951758]\n",
      "[-3.5994037  -1.59981573  0.39985092  2.39968425]\n",
      "[-3.59960971 -1.59987939  0.39990243  2.39979334]\n",
      "[-3.59974455 -1.59992106  0.39993614  2.39986474]\n",
      "[-3.59983281 -1.59994834  0.3999582   2.39991147]\n",
      "[-3.59989057 -1.59996618  0.39997264  2.39994206]\n"
     ]
    }
   ],
   "source": [
    "# Compute the value function\n",
    "V = np.zeros(len(S))\n",
    "\n",
    "def E(s):\n",
    "    # returns expected value of s\n",
    "    e = 0\n",
    "    for a in range(len(A)):\n",
    "        s_prime = T[s,a]\n",
    "        v_sprime = V[s_prime]\n",
    "        e += 0.5*v_sprime # cheating a little bit\n",
    "    return e\n",
    "\n",
    "# Value iteration\n",
    "for i in range(25):\n",
    "    for s in S:\n",
    "        V[s] = R[s] + E(s)\n",
    "    print(V)"
   ]
  },
  {
   "cell_type": "code",
   "execution_count": 4,
   "metadata": {},
   "outputs": [
    {
     "name": "stdout",
     "output_type": "stream",
     "text": [
      "{0: 1, 1: 1, 2: 1, 3: 1}\n"
     ]
    }
   ],
   "source": [
    "pi = {0:0, 1:0, 2:0, 3:0}\n",
    "for s in S:\n",
    "    selection_arg = 0\n",
    "    selection_val = -np.inf\n",
    "    for a in A:\n",
    "        state_action_value = V[T[s, a]]\n",
    "        if state_action_value > selection_val:\n",
    "            selection_val = state_action_value\n",
    "            selection_arg = a\n",
    "    pi[s] = selection_arg\n",
    "print(pi)\n"
   ]
  },
  {
   "cell_type": "code",
   "execution_count": null,
   "metadata": {},
   "outputs": [
    {
     "name": "stdout",
     "output_type": "stream",
     "text": [
      "[0. 1. 0. 0.] 0\n",
      "[0. 0. 1. 0.] 0\n",
      "[0. 0. 0. 1.] 1\n",
      "[0. 0. 0. 1.] 2\n",
      "[0. 0. 0. 1.] 3\n",
      "[0. 0. 0. 1.] 4\n"
     ]
    }
   ],
   "source": [
    "time_steps = 10\n",
    "s0 = 0\n",
    "s = s0\n",
    "score = 0\n",
    "\n",
    "for i in range(time_steps):\n",
    "    time.sleep(0.5)\n",
    "    a = pi[s]\n",
    "    s = T[s, a]\n",
    "    map = np.zeros(len(S))\n",
    "    map[s] = 1\n",
    "    score += R[s]\n",
    "    print(map, score)"
   ]
  },
  {
   "cell_type": "code",
   "execution_count": null,
   "metadata": {},
   "outputs": [],
   "source": []
  }
 ],
 "metadata": {
  "kernelspec": {
   "display_name": "Python 3",
   "language": "python",
   "name": "python3"
  },
  "language_info": {
   "codemirror_mode": {
    "name": "ipython",
    "version": 3
   },
   "file_extension": ".py",
   "mimetype": "text/x-python",
   "name": "python",
   "nbconvert_exporter": "python",
   "pygments_lexer": "ipython3",
   "version": "3.5.2"
  },
  "widgets": {
   "state": {},
   "version": "1.1.2"
  }
 },
 "nbformat": 4,
 "nbformat_minor": 1
}
